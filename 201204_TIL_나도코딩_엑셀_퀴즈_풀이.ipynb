{
  "nbformat": 4,
  "nbformat_minor": 0,
  "metadata": {
    "colab": {
      "name": "201204_TIL_나도코딩 엑셀 퀴즈 풀이.ipynb",
      "provenance": [],
      "authorship_tag": "ABX9TyMuDtE0i7FjvPyUoQUf3790",
      "include_colab_link": true
    },
    "kernelspec": {
      "name": "python3",
      "display_name": "Python 3"
    }
  },
  "cells": [
    {
      "cell_type": "markdown",
      "metadata": {
        "id": "view-in-github",
        "colab_type": "text"
      },
      "source": [
        "<a href=\"https://colab.research.google.com/github/951237/python_openpyxl/blob/master/201204_TIL_%EB%82%98%EB%8F%84%EC%BD%94%EB%94%A9_%EC%97%91%EC%85%80_%ED%80%B4%EC%A6%88_%ED%92%80%EC%9D%B4.ipynb\" target=\"_parent\"><img src=\"https://colab.research.google.com/assets/colab-badge.svg\" alt=\"Open In Colab\"/></a>"
      ]
    },
    {
      "cell_type": "markdown",
      "metadata": {
        "id": "jExrGqADofYJ"
      },
      "source": [
        "# 나도 코딩 퀴즈 풀이"
      ]
    },
    {
      "cell_type": "code",
      "metadata": {
        "id": "Mw3p6L7OXi8J"
      },
      "source": [
        "from openpyxl import Workbook\n",
        "\n",
        "# 시트 만들기\n",
        "wb = Workbook()\n",
        "ws = wb.active\n",
        "ws.title = \"성적처리\"\n",
        "\n",
        "# 입력데이터\n",
        "data = ['학번', '출석', '퀴즈1', '퀴즈2', '중간고사', '기말고사', '프로젝트',\n",
        "        1,10,8,5,14,26,12,\n",
        "        2,7,3,7,15,24,18,\n",
        "        3,9,5,8,8,12,4,\n",
        "        4,7,8,7,17,21,18,\n",
        "        5,7,8,7,16,25,15,\n",
        "        6,3,5,8,8,17,0,\n",
        "        7,4,9,10,16,27,18,\n",
        "        8,6,6,6,15,19,17,\n",
        "        9,10,10,9,19,30,19,\n",
        "        10,9,8,8,20,25,20]\n",
        "\n",
        "# 성적 입력하기 \n",
        "k = 0\n",
        "for i in range(1, 12): # 셀은 1부터 시작\n",
        "    for j in range(1, 8): # 셀은 1부터 시작\n",
        "        ws.cell(row=i, column=j, value=data[k])\n",
        "        k += 1"
      ],
      "execution_count": 24,
      "outputs": []
    },
    {
      "cell_type": "code",
      "metadata": {
        "id": "FtgmJ6cxbyTG"
      },
      "source": [
        "# 퀴즈 2의 점수를 모두 10점으로 수정\n",
        "for i in range(2, ws.max_row + 1):\n",
        "    ws.cell(column=4, row = i).value = 10"
      ],
      "execution_count": 29,
      "outputs": []
    },
    {
      "cell_type": "code",
      "metadata": {
        "id": "2HkSeBpSfbiN"
      },
      "source": [
        "# H열에 총점 추가\n",
        "ws.cell(row=1, column=8).value = \"총점\"\n",
        "ws.cell(row=1, column=9).value = \"성적\""
      ],
      "execution_count": 49,
      "outputs": []
    },
    {
      "cell_type": "code",
      "metadata": {
        "id": "MsTLiye_hXBO"
      },
      "source": [
        "# 총점 구하기\n",
        "for i in range(2, ws.max_row+1):\n",
        "    sum = 0\n",
        "    for j in range(2, 8):\n",
        "        sum = sum + ws.cell(row=i, column=j).value\n",
        "    ws.cell(row=i, column=8).value = sum\n"
      ],
      "execution_count": 47,
      "outputs": []
    },
    {
      "cell_type": "code",
      "metadata": {
        "id": "G7VOtgBmmsRm"
      },
      "source": [
        "# 총점 90점이상 A, 80점 이상B, 70점 이상 C, 나머지 D\n",
        "for i in range(2, ws.max_row + 1):\n",
        "    score = ws.cell(column=8, row = i).value\n",
        "    if  score >= 90:\n",
        "        ws.cell(column=9, row=i).value = \"A\"\n",
        "    elif score >= 80:\n",
        "        ws.cell(column=9, row=i).value = \"B\"\n",
        "    elif score >= 70:\n",
        "        ws.cell(column=9, row=i).value = \"C\"\n",
        "    else:\n",
        "        ws.cell(column=9, row=i).value = \"D\""
      ],
      "execution_count": 50,
      "outputs": []
    },
    {
      "cell_type": "code",
      "metadata": {
        "id": "JFtpefvrnl2x"
      },
      "source": [
        "# 출석이 5 미만인 학생은 총점 상관없이 F\n",
        "for i in range(2, ws.max_row + 1):\n",
        "    attend = ws.cell(column=2, row = i).value\n",
        "    if attend < 5:\n",
        "        ws.cell(column=9, row = i).value = \"F\"\n",
        "    "
      ],
      "execution_count": 53,
      "outputs": []
    },
    {
      "cell_type": "code",
      "metadata": {
        "id": "2zCkNtJ_Wv5R"
      },
      "source": [
        "wb.save('scores.xlsx')"
      ],
      "execution_count": 55,
      "outputs": []
    },
    {
      "cell_type": "code",
      "metadata": {
        "id": "RgCTOY4NWzz6"
      },
      "source": [
        "wb.close()"
      ],
      "execution_count": 9,
      "outputs": []
    },
    {
      "cell_type": "markdown",
      "metadata": {
        "id": "opkGt1j4X1mn"
      },
      "source": [
        "# 코딩연습장"
      ]
    },
    {
      "cell_type": "code",
      "metadata": {
        "colab": {
          "base_uri": "https://localhost:8080/"
        },
        "id": "kQX9SICXXzwP",
        "outputId": "b5515900-38de-49f5-d785-0d35032ff922"
      },
      "source": [
        "len(data)"
      ],
      "execution_count": 13,
      "outputs": [
        {
          "output_type": "execute_result",
          "data": {
            "text/plain": [
              "77"
            ]
          },
          "metadata": {
            "tags": []
          },
          "execution_count": 13
        }
      ]
    },
    {
      "cell_type": "code",
      "metadata": {
        "colab": {
          "base_uri": "https://localhost:8080/"
        },
        "id": "snftcvQbX0l6",
        "outputId": "84cfd309-c87a-40be-93e1-bbe3b0ee7322"
      },
      "source": [
        "for row in ws.iter_rows():\n",
        "    print(row[8].value)"
      ],
      "execution_count": 54,
      "outputs": [
        {
          "output_type": "stream",
          "text": [
            "성적\n",
            "B\n",
            "C\n",
            "D\n",
            "B\n",
            "B\n",
            "F\n",
            "F\n",
            "C\n",
            "A\n",
            "A\n"
          ],
          "name": "stdout"
        }
      ]
    },
    {
      "cell_type": "code",
      "metadata": {
        "id": "fpsaJNsSeYTC"
      },
      "source": [
        ""
      ],
      "execution_count": null,
      "outputs": []
    }
  ]
}