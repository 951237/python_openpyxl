{
 "cells": [
  {
   "cell_type": "code",
   "execution_count": 9,
   "metadata": {},
   "outputs": [],
   "source": [
    "# 판다스 임포트 #pandas\n",
    "import numpy as np\n",
    "import pandas as pd\n",
    "import chardet\n",
    "from pandas import Series, DataFrame\n",
    "import matplotlib.pyplot as plt\n",
    "import seaborn as sns"
   ]
  },
  {
   "cell_type": "code",
   "execution_count": 10,
   "metadata": {},
   "outputs": [],
   "source": [
    "# 불러올 파일 지정하기 #pandas\n",
    "inputFile = 'pandas_googleAddress.csv'"
   ]
  },
  {
   "cell_type": "code",
   "execution_count": 13,
   "metadata": {},
   "outputs": [],
   "source": [
    "# CSV파일을 df(데이터 프레임)로 부르기 #pandas\n",
    "df = pd.read_csv(inputFile, encoding='utf-8')"
   ]
  },
  {
   "cell_type": "code",
   "execution_count": 35,
   "metadata": {
    "scrolled": false
   },
   "outputs": [],
   "source": [
    "# 데이터 프레임에서 원하는 열을 뽑아서 다른 데이터 프레임으로 저장 #pandas #느낀점\n",
    "dfSel_01 = df[['First Name', 'Middle Name','Last Name','Mobile Phone','Other Phone','Notes','E-mail Address','E-mail 2 Address']]"
   ]
  },
  {
   "cell_type": "code",
   "execution_count": 36,
   "metadata": {},
   "outputs": [
    {
     "name": "stdout",
     "output_type": "stream",
     "text": [
      "<class 'pandas.core.frame.DataFrame'>\n",
      "RangeIndex: 944 entries, 0 to 943\n",
      "Data columns (total 8 columns):\n",
      "First Name          710 non-null object\n",
      "Middle Name         18 non-null object\n",
      "Last Name           216 non-null object\n",
      "Mobile Phone        495 non-null object\n",
      "Other Phone         63 non-null object\n",
      "Notes               158 non-null object\n",
      "E-mail Address      126 non-null object\n",
      "E-mail 2 Address    14 non-null object\n",
      "dtypes: object(8)\n",
      "memory usage: 59.1+ KB\n"
     ]
    }
   ],
   "source": [
    "# 데이터 프레임의 정보를 확인하기\n",
    "dfSel_01.info()"
   ]
  },
  {
   "cell_type": "code",
   "execution_count": 64,
   "metadata": {},
   "outputs": [
    {
     "name": "stderr",
     "output_type": "stream",
     "text": [
      "/Users/mac/.virtualenvs/studyPython from 2018/lib/python3.6/site-packages/ipykernel_launcher.py:1: SettingWithCopyWarning: \n",
      "A value is trying to be set on a copy of a slice from a DataFrame\n",
      "\n",
      "See the caveats in the documentation: http://pandas.pydata.org/pandas-docs/stable/indexing.html#indexing-view-versus-copy\n",
      "  \"\"\"Entry point for launching an IPython kernel.\n"
     ]
    }
   ],
   "source": [
    "# 특정열의 빈값을 삭제하여 반영하기 #느낀점 #pandas\n",
    "dfSel_01.dropna(subset=['Mobile Phone'], inplace=True)"
   ]
  },
  {
   "cell_type": "code",
   "execution_count": 73,
   "metadata": {},
   "outputs": [
    {
     "name": "stderr",
     "output_type": "stream",
     "text": [
      "/Users/mac/.virtualenvs/studyPython from 2018/lib/python3.6/site-packages/pandas/core/generic.py:5434: SettingWithCopyWarning: \n",
      "A value is trying to be set on a copy of a slice from a DataFrame\n",
      "\n",
      "See the caveats in the documentation: http://pandas.pydata.org/pandas-docs/stable/indexing.html#indexing-view-versus-copy\n",
      "  self._update_inplace(new_data)\n"
     ]
    }
   ],
   "source": [
    "# 좌측 열의 값을 우측 열의 빈칸에 채우기 #느낀점 #pandas\n",
    "dfSel_01['First Name'].fillna(dfSel_01['Middle Name'], inplace = True)"
   ]
  },
  {
   "cell_type": "code",
   "execution_count": 81,
   "metadata": {},
   "outputs": [
    {
     "name": "stderr",
     "output_type": "stream",
     "text": [
      "/Users/mac/.virtualenvs/studyPython from 2018/lib/python3.6/site-packages/pandas/core/frame.py:3697: SettingWithCopyWarning: \n",
      "A value is trying to be set on a copy of a slice from a DataFrame\n",
      "\n",
      "See the caveats in the documentation: http://pandas.pydata.org/pandas-docs/stable/indexing.html#indexing-view-versus-copy\n",
      "  errors=errors)\n"
     ]
    }
   ],
   "source": [
    "# 두개의 열을 한꺼번에 지우기 #느낀점 #pandas\n",
    "dfSel_01.drop(['Last Name','Middle Name'], axis=1, inplace=True)"
   ]
  },
  {
   "cell_type": "code",
   "execution_count": 84,
   "metadata": {},
   "outputs": [],
   "source": [
    "# 데이터 프레임의 인덱싱을 새롭게 지정하기 #느낀점 #pandas\n",
    "dfSel_01.reset_index(drop=True, inplace=True)"
   ]
  },
  {
   "cell_type": "code",
   "execution_count": 96,
   "metadata": {},
   "outputs": [
    {
     "name": "stdout",
     "output_type": "stream",
     "text": [
      "<class 'pandas.core.frame.DataFrame'>\n",
      "RangeIndex: 495 entries, 0 to 494\n",
      "Data columns (total 7 columns):\n",
      "index               495 non-null int64\n",
      "First Name          495 non-null object\n",
      "Mobile Phone        495 non-null object\n",
      "Other Phone         1 non-null object\n",
      "Notes               28 non-null object\n",
      "E-mail Address      103 non-null object\n",
      "E-mail 2 Address    13 non-null object\n",
      "dtypes: int64(1), object(6)\n",
      "memory usage: 27.1+ KB\n"
     ]
    }
   ],
   "source": [
    "dfSel_01.info()"
   ]
  },
  {
   "cell_type": "code",
   "execution_count": 98,
   "metadata": {},
   "outputs": [
    {
     "name": "stderr",
     "output_type": "stream",
     "text": [
      "/Users/mac/.virtualenvs/studyPython from 2018/lib/python3.6/site-packages/pandas/core/frame.py:3697: SettingWithCopyWarning: \n",
      "A value is trying to be set on a copy of a slice from a DataFrame\n",
      "\n",
      "See the caveats in the documentation: http://pandas.pydata.org/pandas-docs/stable/indexing.html#indexing-view-versus-copy\n",
      "  errors=errors)\n"
     ]
    }
   ],
   "source": [
    "dfSel_01.drop('index', axis=1, inplace=True)"
   ]
  },
  {
   "cell_type": "code",
   "execution_count": 105,
   "metadata": {},
   "outputs": [],
   "source": [
    "# 데이터 프레임 엑셀파일로 저장하기 #pandas\n",
    "dfSel_01.to_excel('pandas_googleAddress_181012.xlsx')"
   ]
  },
  {
   "cell_type": "code",
   "execution_count": null,
   "metadata": {},
   "outputs": [],
   "source": []
  }
 ],
 "metadata": {
  "kernelspec": {
   "display_name": "Python 3",
   "language": "python",
   "name": "python3"
  },
  "language_info": {
   "codemirror_mode": {
    "name": "ipython",
    "version": 3
   },
   "file_extension": ".py",
   "mimetype": "text/x-python",
   "name": "python",
   "nbconvert_exporter": "python",
   "pygments_lexer": "ipython3",
   "version": "3.6.4"
  }
 },
 "nbformat": 4,
 "nbformat_minor": 2
}
