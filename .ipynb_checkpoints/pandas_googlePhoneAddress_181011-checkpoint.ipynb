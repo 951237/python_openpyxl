{
 "cells": [
  {
   "cell_type": "code",
   "execution_count": 9,
   "metadata": {},
   "outputs": [],
   "source": [
    "# 판다스 임포트\n",
    "import numpy as np\n",
    "import pandas as pd\n",
    "import chardet\n",
    "from pandas import Series, DataFrame\n",
    "import matplotlib.pyplot as plt\n",
    "import seaborn as sns"
   ]
  },
  {
   "cell_type": "code",
   "execution_count": 10,
   "metadata": {},
   "outputs": [],
   "source": [
    "# 불러올 파일 지정하기\n",
    "inputFile = 'pandas_googleAddress.csv'"
   ]
  },
  {
   "cell_type": "code",
   "execution_count": 13,
   "metadata": {},
   "outputs": [],
   "source": [
    "# CSV파일을 df(데이터 프레임)로 부르기\n",
    "df = pd.read_csv(inputFile, encoding='utf-8')"
   ]
  },
  {
   "cell_type": "code",
   "execution_count": 16,
   "metadata": {
    "scrolled": false
   },
   "outputs": [],
   "source": [
    "dfSel_01 = df[['First Name', 'Mobile Phone']]"
   ]
  },
  {
   "cell_type": "code",
   "execution_count": null,
   "metadata": {},
   "outputs": [],
   "source": []
  },
  {
   "cell_type": "code",
   "execution_count": 15,
   "metadata": {},
   "outputs": [
    {
     "name": "stdout",
     "output_type": "stream",
     "text": [
      "<class 'pandas.core.frame.DataFrame'>\n",
      "RangeIndex: 944 entries, 0 to 943\n",
      "Data columns (total 88 columns):\n",
      "First Name                  710 non-null object\n",
      "Middle Name                 18 non-null object\n",
      "Last Name                   216 non-null object\n",
      "Title                       0 non-null float64\n",
      "Suffix                      6 non-null object\n",
      "Initials                    5 non-null object\n",
      "Web Page                    4 non-null object\n",
      "Gender                      12 non-null object\n",
      "Birthday                    12 non-null object\n",
      "Anniversary                 0 non-null float64\n",
      "Location                    2 non-null object\n",
      "Language                    0 non-null float64\n",
      "Internet Free Busy          0 non-null float64\n",
      "Notes                       158 non-null object\n",
      "E-mail Address              126 non-null object\n",
      "E-mail 2 Address            14 non-null object\n",
      "E-mail 3 Address            1 non-null object\n",
      "Primary Phone               0 non-null float64\n",
      "Home Phone                  44 non-null object\n",
      "Home Phone 2                8 non-null object\n",
      "Mobile Phone                495 non-null object\n",
      "Pager                       0 non-null float64\n",
      "Home Fax                    0 non-null float64\n",
      "Home Address                5 non-null object\n",
      "Home Street                 1 non-null object\n",
      "Home Street 2               4 non-null object\n",
      "Home Street 3               1 non-null object\n",
      "Home Address PO Box         0 non-null float64\n",
      "Home City                   0 non-null float64\n",
      "Home State                  0 non-null float64\n",
      "Home Postal Code            0 non-null float64\n",
      "Home Country                0 non-null float64\n",
      "Spouse                      1 non-null object\n",
      "Children                    0 non-null float64\n",
      "Manager's Name              0 non-null float64\n",
      "Assistant's Name            3 non-null object\n",
      "Referred By                 1 non-null object\n",
      "Company Main Phone          3 non-null object\n",
      "Business Phone              18 non-null object\n",
      "Business Phone 2            0 non-null float64\n",
      "Business Fax                0 non-null float64\n",
      "Assistant's Phone           0 non-null float64\n",
      "Company                     12 non-null object\n",
      "Job Title                   328 non-null object\n",
      "Department                  0 non-null float64\n",
      "Office Location             2 non-null object\n",
      "Organizational ID Number    0 non-null float64\n",
      "Profession                  0 non-null float64\n",
      "Account                     0 non-null float64\n",
      "Business Address            0 non-null float64\n",
      "Business Street             0 non-null float64\n",
      "Business Street 2           0 non-null float64\n",
      "Business Street 3           0 non-null float64\n",
      "Business Address PO Box     0 non-null float64\n",
      "Business City               0 non-null float64\n",
      "Business State              0 non-null float64\n",
      "Business Postal Code        0 non-null float64\n",
      "Business Country            0 non-null float64\n",
      "Other Phone                 63 non-null object\n",
      "Other Fax                   0 non-null float64\n",
      "Other Address               0 non-null float64\n",
      "Other Street                1 non-null object\n",
      "Other Street 2              1 non-null object\n",
      "Other Street 3              1 non-null object\n",
      "Other Address PO Box        1 non-null object\n",
      "Other City                  0 non-null float64\n",
      "Other State                 0 non-null float64\n",
      "Other Postal Code           0 non-null float64\n",
      "Other Country               0 non-null float64\n",
      "Callback                    0 non-null float64\n",
      "Car Phone                   0 non-null float64\n",
      "ISDN                        0 non-null float64\n",
      "Radio Phone                 12 non-null object\n",
      "TTY/TDD Phone               0 non-null float64\n",
      "Telex                       12 non-null object\n",
      "User 1                      0 non-null float64\n",
      "User 2                      0 non-null float64\n",
      "User 3                      0 non-null float64\n",
      "User 4                      0 non-null float64\n",
      "Keywords                    0 non-null float64\n",
      "Mileage                     0 non-null float64\n",
      "Hobby                       0 non-null float64\n",
      "Billing Information         0 non-null float64\n",
      "Directory Server            0 non-null float64\n",
      "Sensitivity                 0 non-null float64\n",
      "Priority                    612 non-null object\n",
      "Private                     0 non-null float64\n",
      "Categories                  597 non-null object\n",
      "dtypes: float64(51), object(37)\n",
      "memory usage: 649.1+ KB\n"
     ]
    }
   ],
   "source": [
    "df.info()"
   ]
  },
  {
   "cell_type": "code",
   "execution_count": null,
   "metadata": {},
   "outputs": [],
   "source": []
  }
 ],
 "metadata": {
  "kernelspec": {
   "display_name": "Python 3",
   "language": "python",
   "name": "python3"
  },
  "language_info": {
   "codemirror_mode": {
    "name": "ipython",
    "version": 3
   },
   "file_extension": ".py",
   "mimetype": "text/x-python",
   "name": "python",
   "nbconvert_exporter": "python",
   "pygments_lexer": "ipython3",
   "version": "3.6.4"
  }
 },
 "nbformat": 4,
 "nbformat_minor": 2
}
